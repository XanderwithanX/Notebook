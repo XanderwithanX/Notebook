{
 "cells": [
  {
   "cell_type": "markdown",
   "id": "9a32c932",
   "metadata": {},
   "source": [
    "# Notebook on Datetime"
   ]
  },
  {
   "cell_type": "code",
   "execution_count": 2,
   "id": "b4f02376",
   "metadata": {},
   "outputs": [],
   "source": [
    "# Run this cell first to import everything we'll need.\n",
    "import numpy as np\n",
    "import datetime\n",
    "from datascience import *"
   ]
  },
  {
   "cell_type": "markdown",
   "id": "368d70b8",
   "metadata": {},
   "source": [
    "Run the block of code below. Notice how the \"Date\" column is not in a simple format. \n",
    "\n",
    "Optional: Read this link (https://www.w3schools.com/python/python_datetime.asp) for more information."
   ]
  },
  {
   "cell_type": "code",
   "execution_count": 3,
   "id": "d3686e65",
   "metadata": {
    "scrolled": true
   },
   "outputs": [
    {
     "data": {
      "text/html": [
       "<table border=\"1\" class=\"dataframe\">\n",
       "    <thead>\n",
       "        <tr>\n",
       "            <th>Date</th> <th>LW_down</th> <th>SW_down</th> <th>T2m</th> <th>Nao</th> <th>GBI</th>\n",
       "        </tr>\n",
       "    </thead>\n",
       "    <tbody>\n",
       "        <tr>\n",
       "            <td>1979-01-01</td> <td>224.463</td> <td>25.8776</td> <td>263.745</td> <td>-0.788</td> <td>5221.53</td>\n",
       "        </tr>\n",
       "        <tr>\n",
       "            <td>1979-01-02</td> <td>225.811</td> <td>25.446 </td> <td>262.863</td> <td>-0.838</td> <td>5198.18</td>\n",
       "        </tr>\n",
       "        <tr>\n",
       "            <td>1979-01-03</td> <td>226.665</td> <td>25.318 </td> <td>263.099</td> <td>-0.538</td> <td>5208.06</td>\n",
       "        </tr>\n",
       "        <tr>\n",
       "            <td>1979-01-04</td> <td>226.454</td> <td>24.9229</td> <td>263.039</td> <td>-0.225</td> <td>5218.68</td>\n",
       "        </tr>\n",
       "        <tr>\n",
       "            <td>1979-01-05</td> <td>227.341</td> <td>24.8668</td> <td>263.215</td> <td>0.242 </td> <td>5215.2 </td>\n",
       "        </tr>\n",
       "    </tbody>\n",
       "</table>\n",
       "<p>... (15701 rows omitted)</p>"
      ],
      "text/plain": [
       "<IPython.core.display.HTML object>"
      ]
     },
     "metadata": {},
     "output_type": "display_data"
    }
   ],
   "source": [
    "fullDataset = Table.read_table(\"Greenland_domain_mean_1979_2021_v3.csv\")\n",
    "fullDataset.show(5)"
   ]
  },
  {
   "cell_type": "markdown",
   "id": "94b9a914",
   "metadata": {},
   "source": [
    "For this analysis, our goal is to convert the values in \"Date\" into the days that have passed since 1979-01-01. To start, let's look at comparing 2 known dates.\n",
    "\n",
    "Find the number of days between the two dates below (Hint: Use the .days method to convert the timedelta datatype into ints.)"
   ]
  },
  {
   "cell_type": "code",
   "execution_count": 12,
   "id": "458900f9",
   "metadata": {},
   "outputs": [
    {
     "data": {
      "text/plain": [
       "Ellipsis"
      ]
     },
     "execution_count": 12,
     "metadata": {},
     "output_type": "execute_result"
    }
   ],
   "source": [
    "example1 = datetime.date(2021, 1, 1)\n",
    "example2 = datetime.date(2022, 1, 1)\n",
    "daysBetween = ...\n",
    "daysBetween"
   ]
  },
  {
   "cell_type": "markdown",
   "id": "b09811dc",
   "metadata": {},
   "source": [
    "Next, write a function \"cleanDates\" that gives the number of days that have passed since 1979-01-01. The input will be given in the same way as the \"Date\" column (meaning \"YYYY-MM-DD)"
   ]
  },
  {
   "cell_type": "code",
   "execution_count": 4,
   "id": "b7962d0f",
   "metadata": {},
   "outputs": [],
   "source": [
    "def cleanDates(inputDate):\n",
    "\n",
    "    return ..."
   ]
  },
  {
   "cell_type": "code",
   "execution_count": 5,
   "id": "8621c8bb",
   "metadata": {},
   "outputs": [
    {
     "data": {
      "text/plain": [
       "array([    1,     2,     3, ..., 15704, 15705, 15706])"
      ]
     },
     "execution_count": 5,
     "metadata": {},
     "output_type": "execute_result"
    }
   ],
   "source": [
    "daysSinceStart = fullDataset.apply(cleanDates, 0)\n",
    "\n",
    "daysSinceStart"
   ]
  }
 ],
 "metadata": {
  "kernelspec": {
   "display_name": "Python 3 (ipykernel)",
   "language": "python",
   "name": "python3"
  },
  "language_info": {
   "codemirror_mode": {
    "name": "ipython",
    "version": 3
   },
   "file_extension": ".py",
   "mimetype": "text/x-python",
   "name": "python",
   "nbconvert_exporter": "python",
   "pygments_lexer": "ipython3",
   "version": "3.9.12"
  }
 },
 "nbformat": 4,
 "nbformat_minor": 5
}
