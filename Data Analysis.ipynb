{
 "cells": [
  {
   "cell_type": "markdown",
   "id": "9a32c932",
   "metadata": {},
   "source": [
    "# Notebook on Datetime"
   ]
  },
  {
   "cell_type": "code",
   "execution_count": 5,
   "id": "b4f02376",
   "metadata": {},
   "outputs": [
    {
     "ename": "ModuleNotFoundError",
     "evalue": "No module named 'datascience'",
     "output_type": "error",
     "traceback": [
      "\u001b[0;31m---------------------------------------------------------------------------\u001b[0m",
      "\u001b[0;31mModuleNotFoundError\u001b[0m                       Traceback (most recent call last)",
      "Input \u001b[0;32mIn [5]\u001b[0m, in \u001b[0;36m<cell line: 5>\u001b[0;34m()\u001b[0m\n\u001b[1;32m      3\u001b[0m \u001b[38;5;28;01mimport\u001b[39;00m \u001b[38;5;21;01mdatetime\u001b[39;00m\n\u001b[1;32m      4\u001b[0m \u001b[38;5;66;03m# from datascience import *\u001b[39;00m\n\u001b[0;32m----> 5\u001b[0m \u001b[38;5;28;01mimport\u001b[39;00m \u001b[38;5;21;01mdatascience\u001b[39;00m\n",
      "\u001b[0;31mModuleNotFoundError\u001b[0m: No module named 'datascience'"
     ]
    }
   ],
   "source": [
    "# Run this cell first to import everything we'll need.\n",
    "import numpy as np\n",
    "import datetime\n",
    "from datascience import *"
   ]
  },
  {
   "cell_type": "markdown",
   "id": "368d70b8",
   "metadata": {},
   "source": [
    "Run the block of code below. Notice how the \"Date\" column is not in a simple format. \n",
    "\n",
    "Optional: Read this link (https://www.w3schools.com/python/python_datetime.asp) for more information."
   ]
  },
  {
   "cell_type": "code",
   "execution_count": 6,
   "id": "d3686e65",
   "metadata": {
    "scrolled": true
   },
   "outputs": [
    {
     "ename": "NameError",
     "evalue": "name 'Table' is not defined",
     "output_type": "error",
     "traceback": [
      "\u001b[0;31m---------------------------------------------------------------------------\u001b[0m",
      "\u001b[0;31mNameError\u001b[0m                                 Traceback (most recent call last)",
      "Input \u001b[0;32mIn [6]\u001b[0m, in \u001b[0;36m<cell line: 1>\u001b[0;34m()\u001b[0m\n\u001b[0;32m----> 1\u001b[0m fullDataset \u001b[38;5;241m=\u001b[39m \u001b[43mTable\u001b[49m\u001b[38;5;241m.\u001b[39mread_table(\u001b[38;5;124m\"\u001b[39m\u001b[38;5;124mGreenland_domain_mean_1979_2021_v3.csv\u001b[39m\u001b[38;5;124m\"\u001b[39m)\n\u001b[1;32m      2\u001b[0m fullDataset\u001b[38;5;241m.\u001b[39mshow(\u001b[38;5;241m5\u001b[39m)\n",
      "\u001b[0;31mNameError\u001b[0m: name 'Table' is not defined"
     ]
    }
   ],
   "source": [
    "fullDataset = Table.read_table(\"Greenland_domain_mean_1979_2021_v3.csv\")\n",
    "fullDataset.show(5)"
   ]
  },
  {
   "cell_type": "markdown",
   "id": "94b9a914",
   "metadata": {},
   "source": [
    "For this analysis, our goal is to convert the values in \"Date\" into the days that have passed since 1979-01-01. To start, let's look at comparing 2 known dates.\n",
    "\n",
    "Find the number of days between the two dates below (Hint: Use the .days method to convert the timedelta datatype into ints.)"
   ]
  },
  {
   "cell_type": "code",
   "execution_count": 7,
   "id": "458900f9",
   "metadata": {},
   "outputs": [
    {
     "data": {
      "text/plain": [
       "Ellipsis"
      ]
     },
     "execution_count": 7,
     "metadata": {},
     "output_type": "execute_result"
    }
   ],
   "source": [
    "example1 = datetime.date(2021, 1, 1)\n",
    "example2 = datetime.date(2022, 1, 1)\n",
    "daysBetween = ...\n",
    "daysBetween"
   ]
  },
  {
   "cell_type": "markdown",
   "id": "b09811dc",
   "metadata": {},
   "source": [
    "Next, write a function \"cleanDates\" that gives the number of days that have passed since January 1, 1979. The input will be given in the same way as the \"Date\" column (meaning \"YYYY-MM-DD)\n",
    "\n",
    "Also, I know this will just give consecutive numbers, and it would be really easy to replicate with a for loop. However, some data might have missing values and so practicing this way now is good preparation."
   ]
  },
  {
   "cell_type": "code",
   "execution_count": 4,
   "id": "b7962d0f",
   "metadata": {},
   "outputs": [],
   "source": [
    "def cleanDates(inputDate):\n",
    "\n",
    "    return ..."
   ]
  },
  {
   "cell_type": "code",
   "execution_count": 5,
   "id": "8621c8bb",
   "metadata": {
    "scrolled": true
   },
   "outputs": [
    {
     "data": {
      "text/plain": [
       "array([    1,     2,     3, ..., 15704, 15705, 15706])"
      ]
     },
     "execution_count": 5,
     "metadata": {},
     "output_type": "execute_result"
    }
   ],
   "source": [
    "daysSinceStart = fullDataset.apply(cleanDates, 0)\n",
    "\n",
    "daysSinceStart"
   ]
  },
  {
   "cell_type": "markdown",
   "id": "c0d1eabc",
   "metadata": {},
   "source": [
    "Finally, write code that makes a scatter plot using the daysSinceStart array as well as any column from the Greenland dataset (besides date). Do you notice any connections?"
   ]
  },
  {
   "cell_type": "code",
   "execution_count": null,
   "id": "d9ec7a18",
   "metadata": {},
   "outputs": [],
   "source": [
    "plotThis = ...\n",
    "plotThis"
   ]
  }
 ],
 "metadata": {
  "kernelspec": {
   "display_name": "Python 3 (ipykernel)",
   "language": "python",
   "name": "python3"
  },
  "language_info": {
   "codemirror_mode": {
    "name": "ipython",
    "version": 3
   },
   "file_extension": ".py",
   "mimetype": "text/x-python",
   "name": "python",
   "nbconvert_exporter": "python",
   "pygments_lexer": "ipython3",
   "version": "3.9.12"
  }
 },
 "nbformat": 4,
 "nbformat_minor": 5
}
